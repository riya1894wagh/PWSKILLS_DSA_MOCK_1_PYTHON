{
 "cells": [
  {
   "cell_type": "markdown",
   "id": "abad31e8-00ff-4c56-ab88-23d179ea7392",
   "metadata": {},
   "source": [
    "## Given an integer array nums, move all 0's to the end of it while maintaining the relative order of the non-zero elements.\n",
    "\n",
    "### Note that you must do this in-place without making a copy of the array.\n",
    "\n",
    "#### Example 1:\n",
    "Input: nums = [0,1,0,3,12]\n",
    "Output: [1,3,12,0,0]\n",
    "\n",
    "Example 2:\n",
    "Input: nums = [0]\n",
    "Output: [0]\n",
    "\n",
    "Constraints:\n",
    "a. 1 <= nums.length <= 10^4\n",
    "b. -2^31 <= nums[i] <= 2^31 - 1\n"
   ]
  },
  {
   "cell_type": "code",
   "execution_count": 7,
   "id": "e5feff79-86eb-4cfe-8a40-c95f84501b21",
   "metadata": {},
   "outputs": [],
   "source": [
    "# Time Complexity O(n)\n",
    "# Space Complaxity O(n)\n",
    "\n",
    "def moveZeroes(nums):\n",
    "         \n",
    "\n",
    "        l = 0\n",
    "        r = len(nums)\n",
    "\n",
    "        arr = [0]*(r+1)\n",
    "        i=0\n",
    "        while(r>l):\n",
    "            if(nums[i]!=0):\n",
    "                arr[l] = nums[i]\n",
    "                l=l+1\n",
    "            if(nums[i]==0):\n",
    "                r=r-1\n",
    "            i=i+1\n",
    "        return arr"
   ]
  },
  {
   "cell_type": "code",
   "execution_count": 8,
   "id": "885c4d40-6d7c-4cfa-8960-a8610e8ce895",
   "metadata": {},
   "outputs": [
    {
     "data": {
      "text/plain": [
       "[1, 3, 12, 0, 0, 0]"
      ]
     },
     "execution_count": 8,
     "metadata": {},
     "output_type": "execute_result"
    }
   ],
   "source": [
    "nums = [0,1,0,3,12]\n",
    "moveZeroes(nums)"
   ]
  },
  {
   "cell_type": "code",
   "execution_count": null,
   "id": "606a4fb2-dc6b-44a0-81e8-aec877f3a387",
   "metadata": {},
   "outputs": [],
   "source": []
  }
 ],
 "metadata": {
  "kernelspec": {
   "display_name": "Python 3 (ipykernel)",
   "language": "python",
   "name": "python3"
  },
  "language_info": {
   "codemirror_mode": {
    "name": "ipython",
    "version": 3
   },
   "file_extension": ".py",
   "mimetype": "text/x-python",
   "name": "python",
   "nbconvert_exporter": "python",
   "pygments_lexer": "ipython3",
   "version": "3.10.8"
  }
 },
 "nbformat": 4,
 "nbformat_minor": 5
}
